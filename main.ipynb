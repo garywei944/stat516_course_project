{
 "cells": [
  {
   "cell_type": "code",
   "execution_count": 52,
   "metadata": {
    "collapsed": true
   },
   "outputs": [],
   "source": [
    "from IPython.display import display\n",
    "\n",
    "import numpy as np\n",
    "import pandas as pd\n",
    "\n",
    "\n",
    "def show_df(_df):\n",
    "    display(_df.head())\n",
    "    print(_df.shape)"
   ]
  },
  {
   "cell_type": "code",
   "execution_count": 2,
   "outputs": [
    {
     "data": {
      "text/plain": "   Store        Date  Weekly_Sales  Holiday_Flag  Temperature  Fuel_Price  \\\n0      1  05-02-2010    1643690.90             0        42.31       2.572   \n1      1  12-02-2010    1641957.44             1        38.51       2.548   \n2      1  19-02-2010    1611968.17             0        39.93       2.514   \n3      1  26-02-2010    1409727.59             0        46.63       2.561   \n4      1  05-03-2010    1554806.68             0        46.50       2.625   \n\n          CPI  Unemployment  \n0  211.096358         8.106  \n1  211.242170         8.106  \n2  211.289143         8.106  \n3  211.319643         8.106  \n4  211.350143         8.106  ",
      "text/html": "<div>\n<style scoped>\n    .dataframe tbody tr th:only-of-type {\n        vertical-align: middle;\n    }\n\n    .dataframe tbody tr th {\n        vertical-align: top;\n    }\n\n    .dataframe thead th {\n        text-align: right;\n    }\n</style>\n<table border=\"1\" class=\"dataframe\">\n  <thead>\n    <tr style=\"text-align: right;\">\n      <th></th>\n      <th>Store</th>\n      <th>Date</th>\n      <th>Weekly_Sales</th>\n      <th>Holiday_Flag</th>\n      <th>Temperature</th>\n      <th>Fuel_Price</th>\n      <th>CPI</th>\n      <th>Unemployment</th>\n    </tr>\n  </thead>\n  <tbody>\n    <tr>\n      <th>0</th>\n      <td>1</td>\n      <td>05-02-2010</td>\n      <td>1643690.90</td>\n      <td>0</td>\n      <td>42.31</td>\n      <td>2.572</td>\n      <td>211.096358</td>\n      <td>8.106</td>\n    </tr>\n    <tr>\n      <th>1</th>\n      <td>1</td>\n      <td>12-02-2010</td>\n      <td>1641957.44</td>\n      <td>1</td>\n      <td>38.51</td>\n      <td>2.548</td>\n      <td>211.242170</td>\n      <td>8.106</td>\n    </tr>\n    <tr>\n      <th>2</th>\n      <td>1</td>\n      <td>19-02-2010</td>\n      <td>1611968.17</td>\n      <td>0</td>\n      <td>39.93</td>\n      <td>2.514</td>\n      <td>211.289143</td>\n      <td>8.106</td>\n    </tr>\n    <tr>\n      <th>3</th>\n      <td>1</td>\n      <td>26-02-2010</td>\n      <td>1409727.59</td>\n      <td>0</td>\n      <td>46.63</td>\n      <td>2.561</td>\n      <td>211.319643</td>\n      <td>8.106</td>\n    </tr>\n    <tr>\n      <th>4</th>\n      <td>1</td>\n      <td>05-03-2010</td>\n      <td>1554806.68</td>\n      <td>0</td>\n      <td>46.50</td>\n      <td>2.625</td>\n      <td>211.350143</td>\n      <td>8.106</td>\n    </tr>\n  </tbody>\n</table>\n</div>"
     },
     "metadata": {},
     "output_type": "display_data"
    },
    {
     "name": "stdout",
     "output_type": "stream",
     "text": [
      "(6435, 8)\n"
     ]
    }
   ],
   "source": [
    "df_data = pd.read_csv('Walmart.csv')\n",
    "\n",
    "show_df(df_data)"
   ],
   "metadata": {
    "collapsed": false,
    "pycharm": {
     "name": "#%%\n"
    }
   }
  },
  {
   "cell_type": "code",
   "execution_count": 10,
   "outputs": [
    {
     "data": {
      "text/plain": "<AxesSubplot:>"
     },
     "execution_count": 10,
     "metadata": {},
     "output_type": "execute_result"
    },
    {
     "data": {
      "text/plain": "<Figure size 432x288 with 1 Axes>",
      "image/png": "[encoded data removed]"
     },
     "metadata": {
      "needs_background": "light"
     },
     "output_type": "display_data"
    }
   ],
   "source": [
    "df_data.Store.hist()"
   ],
   "metadata": {
    "collapsed": false,
    "pycharm": {
     "name": "#%%\n"
    }
   }
  },
  {
   "cell_type": "code",
   "execution_count": 20,
   "outputs": [
    {
     "data": {
      "text/plain": "Store\n1     143\n2     143\n3     143\n4     143\n5     143\n6     143\n7     143\n8     143\n9     143\n10    143\n11    143\n12    143\n13    143\n14    143\n15    143\n16    143\n17    143\n18    143\n19    143\n20    143\n21    143\n22    143\n23    143\n24    143\n25    143\n26    143\n27    143\n28    143\n29    143\n30    143\n31    143\n32    143\n33    143\n34    143\n35    143\n36    143\n37    143\n38    143\n39    143\n40    143\n41    143\n42    143\n43    143\n44    143\n45    143\nName: Store, dtype: int64"
     },
     "execution_count": 20,
     "metadata": {},
     "output_type": "execute_result"
    }
   ],
   "source": [
    "df_data.groupby('Store')['Store'].count()"
   ],
   "metadata": {
    "collapsed": false,
    "pycharm": {
     "name": "#%%\n"
    }
   }
  },
  {
   "cell_type": "code",
   "execution_count": 79,
   "outputs": [
    {
     "data": {
      "text/plain": "   Store        Date  Weekly_Sales  Holiday_Flag  Temperature  Fuel_Price  \\\n0      1  05-02-2010    1643690.90             0        42.31       2.572   \n1      1  12-02-2010    1641957.44             1        38.51       2.548   \n2      1  19-02-2010    1611968.17             0        39.93       2.514   \n3      1  26-02-2010    1409727.59             0        46.63       2.561   \n4      1  05-03-2010    1554806.68             0        46.50       2.625   \n\n          CPI  Unemployment  \n0  211.096358         8.106  \n1  211.242170         8.106  \n2  211.289143         8.106  \n3  211.319643         8.106  \n4  211.350143         8.106  ",
      "text/html": "<div>\n<style scoped>\n    .dataframe tbody tr th:only-of-type {\n        vertical-align: middle;\n    }\n\n    .dataframe tbody tr th {\n        vertical-align: top;\n    }\n\n    .dataframe thead th {\n        text-align: right;\n    }\n</style>\n<table border=\"1\" class=\"dataframe\">\n  <thead>\n    <tr style=\"text-align: right;\">\n      <th></th>\n      <th>Store</th>\n      <th>Date</th>\n      <th>Weekly_Sales</th>\n      <th>Holiday_Flag</th>\n      <th>Temperature</th>\n      <th>Fuel_Price</th>\n      <th>CPI</th>\n      <th>Unemployment</th>\n    </tr>\n  </thead>\n  <tbody>\n    <tr>\n      <th>0</th>\n      <td>1</td>\n      <td>05-02-2010</td>\n      <td>1643690.90</td>\n      <td>0</td>\n      <td>42.31</td>\n      <td>2.572</td>\n      <td>211.096358</td>\n      <td>8.106</td>\n    </tr>\n    <tr>\n      <th>1</th>\n      <td>1</td>\n      <td>12-02-2010</td>\n      <td>1641957.44</td>\n      <td>1</td>\n      <td>38.51</td>\n      <td>2.548</td>\n      <td>211.242170</td>\n      <td>8.106</td>\n    </tr>\n    <tr>\n      <th>2</th>\n      <td>1</td>\n      <td>19-02-2010</td>\n      <td>1611968.17</td>\n      <td>0</td>\n      <td>39.93</td>\n      <td>2.514</td>\n      <td>211.289143</td>\n      <td>8.106</td>\n    </tr>\n    <tr>\n      <th>3</th>\n      <td>1</td>\n      <td>26-02-2010</td>\n      <td>1409727.59</td>\n      <td>0</td>\n      <td>46.63</td>\n      <td>2.561</td>\n      <td>211.319643</td>\n      <td>8.106</td>\n    </tr>\n    <tr>\n      <th>4</th>\n      <td>1</td>\n      <td>05-03-2010</td>\n      <td>1554806.68</td>\n      <td>0</td>\n      <td>46.50</td>\n      <td>2.625</td>\n      <td>211.350143</td>\n      <td>8.106</td>\n    </tr>\n  </tbody>\n</table>\n</div>"
     },
     "metadata": {},
     "output_type": "display_data"
    },
    {
     "name": "stdout",
     "output_type": "stream",
     "text": [
      "(143, 8)\n"
     ]
    }
   ],
   "source": [
    "df_store = df_data.query('Store == 1')\n",
    "\n",
    "show_df(df_store)"
   ],
   "metadata": {
    "collapsed": false,
    "pycharm": {
     "name": "#%%\n"
    }
   }
  },
  {
   "cell_type": "code",
   "execution_count": 80,
   "outputs": [
    {
     "data": {
      "text/plain": "     Store        Date  Weekly_Sales  Holiday_Flag  Temperature  Fuel_Price  \\\n1        1  12-02-2010    1641957.44             1        38.51       2.548   \n31       1  10-09-2010    1507460.69             1        78.69       2.565   \n42       1  26-11-2010    1955624.11             1        64.52       2.735   \n47       1  31-12-2010    1367320.01             1        48.43       2.943   \n53       1  11-02-2011    1649614.93             1        36.39       3.022   \n83       1  09-09-2011    1540471.24             1        76.00       3.546   \n94       1  25-11-2011    2033320.66             1        60.14       3.236   \n99       1  30-12-2011    1497462.72             1        44.55       3.129   \n105      1  10-02-2012    1802477.43             1        48.02       3.409   \n135      1  07-09-2012    1661767.33             1        83.96       3.730   \n\n            CPI  Unemployment  \n1    211.242170         8.106  \n31   211.495190         7.787  \n42   211.748433         7.838  \n47   211.404932         7.838  \n53   212.936705         7.742  \n83   215.861056         7.962  \n94   218.467621         7.866  \n99   219.535990         7.866  \n105  220.265178         7.348  \n135  222.439015         6.908  ",
      "text/html": "<div>\n<style scoped>\n    .dataframe tbody tr th:only-of-type {\n        vertical-align: middle;\n    }\n\n    .dataframe tbody tr th {\n        vertical-align: top;\n    }\n\n    .dataframe thead th {\n        text-align: right;\n    }\n</style>\n<table border=\"1\" class=\"dataframe\">\n  <thead>\n    <tr style=\"text-align: right;\">\n      <th></th>\n      <th>Store</th>\n      <th>Date</th>\n      <th>Weekly_Sales</th>\n      <th>Holiday_Flag</th>\n      <th>Temperature</th>\n      <th>Fuel_Price</th>\n      <th>CPI</th>\n      <th>Unemployment</th>\n    </tr>\n  </thead>\n  <tbody>\n    <tr>\n      <th>1</th>\n      <td>1</td>\n      <td>12-02-2010</td>\n      <td>1641957.44</td>\n      <td>1</td>\n      <td>38.51</td>\n      <td>2.548</td>\n      <td>211.242170</td>\n      <td>8.106</td>\n    </tr>\n    <tr>\n      <th>31</th>\n      <td>1</td>\n      <td>10-09-2010</td>\n      <td>1507460.69</td>\n      <td>1</td>\n      <td>78.69</td>\n      <td>2.565</td>\n      <td>211.495190</td>\n      <td>7.787</td>\n    </tr>\n    <tr>\n      <th>42</th>\n      <td>1</td>\n      <td>26-11-2010</td>\n      <td>1955624.11</td>\n      <td>1</td>\n      <td>64.52</td>\n      <td>2.735</td>\n      <td>211.748433</td>\n      <td>7.838</td>\n    </tr>\n    <tr>\n      <th>47</th>\n      <td>1</td>\n      <td>31-12-2010</td>\n      <td>1367320.01</td>\n      <td>1</td>\n      <td>48.43</td>\n      <td>2.943</td>\n      <td>211.404932</td>\n      <td>7.838</td>\n    </tr>\n    <tr>\n      <th>53</th>\n      <td>1</td>\n      <td>11-02-2011</td>\n      <td>1649614.93</td>\n      <td>1</td>\n      <td>36.39</td>\n      <td>3.022</td>\n      <td>212.936705</td>\n      <td>7.742</td>\n    </tr>\n    <tr>\n      <th>83</th>\n      <td>1</td>\n      <td>09-09-2011</td>\n      <td>1540471.24</td>\n      <td>1</td>\n      <td>76.00</td>\n      <td>3.546</td>\n      <td>215.861056</td>\n      <td>7.962</td>\n    </tr>\n    <tr>\n      <th>94</th>\n      <td>1</td>\n      <td>25-11-2011</td>\n      <td>2033320.66</td>\n      <td>1</td>\n      <td>60.14</td>\n      <td>3.236</td>\n      <td>218.467621</td>\n      <td>7.866</td>\n    </tr>\n    <tr>\n      <th>99</th>\n      <td>1</td>\n      <td>30-12-2011</td>\n      <td>1497462.72</td>\n      <td>1</td>\n      <td>44.55</td>\n      <td>3.129</td>\n      <td>219.535990</td>\n      <td>7.866</td>\n    </tr>\n    <tr>\n      <th>105</th>\n      <td>1</td>\n      <td>10-02-2012</td>\n      <td>1802477.43</td>\n      <td>1</td>\n      <td>48.02</td>\n      <td>3.409</td>\n      <td>220.265178</td>\n      <td>7.348</td>\n    </tr>\n    <tr>\n      <th>135</th>\n      <td>1</td>\n      <td>07-09-2012</td>\n      <td>1661767.33</td>\n      <td>1</td>\n      <td>83.96</td>\n      <td>3.730</td>\n      <td>222.439015</td>\n      <td>6.908</td>\n    </tr>\n  </tbody>\n</table>\n</div>"
     },
     "execution_count": 80,
     "metadata": {},
     "output_type": "execute_result"
    }
   ],
   "source": [
    "df_store.query('Holiday_Flag == 1')"
   ],
   "metadata": {
    "collapsed": false,
    "pycharm": {
     "name": "#%%\n"
    }
   }
  },
  {
   "cell_type": "code",
   "execution_count": 82,
   "outputs": [
    {
     "data": {
      "text/plain": "(2387950.2, 1316899.31, 1555264.3975524479, 155980.76776119988)"
     },
     "execution_count": 82,
     "metadata": {},
     "output_type": "execute_result"
    }
   ],
   "source": [
    "sales = df_store.Weekly_Sales\n",
    "\n",
    "sales.max(), sales.min(), sales.mean(), sales.std()"
   ],
   "metadata": {
    "collapsed": false,
    "pycharm": {
     "name": "#%%\n"
    }
   }
  },
  {
   "cell_type": "code",
   "execution_count": 100,
   "outputs": [
    {
     "data": {
      "text/plain": "<Figure size 576x324 with 1 Axes>",
      "image/png": "[encoded data removed]"
     },
     "metadata": {
      "needs_background": "light"
     },
     "output_type": "display_data"
    }
   ],
   "source": [
    "import matplotlib.pyplot as plt\n",
    "\n",
    "fig = plt.figure(figsize=(8, 4.5))\n",
    "\n",
    "sales.plot.hist(bins=128, alpha=0.5)\n",
    "plt.xlabel('Weekly Sales')\n",
    "\n",
    "plt.savefig('frequency.png')\n",
    "\n",
    "plt.show()"
   ],
   "metadata": {
    "collapsed": false,
    "pycharm": {
     "name": "#%%\n"
    }
   }
  },
  {
   "cell_type": "code",
   "execution_count": 74,
   "outputs": [
    {
     "name": "stdout",
     "output_type": "stream",
     "text": [
      "1,555,264\n",
      "155,981\n",
      "13,044\n",
      "['1,529,479', '1,581,049']\n"
     ]
    }
   ],
   "source": [
    "from scipy import stats\n",
    "\n",
    "miu_hat = sales.mean()\n",
    "sigma_hat = sales.std()\n",
    "sem = sales.sem()\n",
    "\n",
    "ci = stats.t.interval(\n",
    "    alpha=.95,\n",
    "    df=sales.size - 1,\n",
    "    loc=miu_hat,\n",
    "    scale=sem\n",
    ")\n",
    "\n",
    "print(f'{miu_hat:,.0f}')\n",
    "print(f'{sigma_hat:,.0f}')\n",
    "print(f'{sem:,.0f}')\n",
    "print([f'{_i:,.0f}' for _i in ci])"
   ],
   "metadata": {
    "collapsed": false,
    "pycharm": {
     "name": "#%%\n"
    }
   }
  },
  {
   "cell_type": "code",
   "execution_count": 103,
   "outputs": [
    {
     "data": {
      "text/plain": "Ttest_1sampResult(statistic=1.9368942580925879, pvalue=0.027371918869434537)"
     },
     "execution_count": 103,
     "metadata": {},
     "output_type": "execute_result"
    }
   ],
   "source": [
    "# H0: Walmart store 1 weekly sale equals to population mean\n",
    "# Ha: Walmart store 1 weekly sale doesn't equal to population mean\n",
    "\n",
    "pop_mean = 1.53e6\n",
    "\n",
    "stats.ttest_1samp(sales, pop_mean, alternative='greater')"
   ],
   "metadata": {
    "collapsed": false,
    "pycharm": {
     "name": "#%%\n"
    }
   }
  },
  {
   "cell_type": "code",
   "execution_count": 105,
   "outputs": [
    {
     "data": {
      "text/plain": "1.9368942580926056"
     },
     "execution_count": 105,
     "metadata": {},
     "output_type": "execute_result"
    }
   ],
   "source": [
    "(miu_hat-1530000)/sem"
   ],
   "metadata": {
    "collapsed": false,
    "pycharm": {
     "name": "#%%\n"
    }
   }
  },
  {
   "cell_type": "code",
   "execution_count": null,
   "outputs": [],
   "source": [],
   "metadata": {
    "collapsed": false,
    "pycharm": {
     "name": "#%%\n"
    }
   }
  }
 ],
 "metadata": {
  "kernelspec": {
   "display_name": "Python 3",
   "language": "python",
   "name": "python3"
  },
  "language_info": {
   "codemirror_mode": {
    "name": "ipython",
    "version": 2
   },
   "file_extension": ".py",
   "mimetype": "text/x-python",
   "name": "python",
   "nbconvert_exporter": "python",
   "pygments_lexer": "ipython2",
   "version": "2.7.6"
  }
 },
 "nbformat": 4,
 "nbformat_minor": 0
}